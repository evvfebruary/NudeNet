{
 "cells": [
  {
   "cell_type": "code",
   "execution_count": 1,
   "metadata": {
    "pycharm": {
     "is_executing": false
    }
   },
   "outputs": [],
   "source": [
    "from nudenet import detector"
   ]
  },
  {
   "cell_type": "code",
   "execution_count": 2,
   "metadata": {
    "pycharm": {
     "is_executing": false
    }
   },
   "outputs": [],
   "source": [
    "tested_video_path = './short_test_video.ts'"
   ]
  },
  {
   "cell_type": "code",
   "execution_count": 3,
   "metadata": {
    "pycharm": {
     "is_executing": false
    }
   },
   "outputs": [
    {
     "name": "stdout",
     "output_type": "stream",
     "text": [
      "1196444237 30.0 (751, 1333)\n"
     ]
    },
    {
     "name": "stderr",
     "output_type": "stream",
     "text": [
      "\r",
      "N/A% (0 of 103) |                        | Elapsed Time: 0:00:00 ETA:  --:--:--"
     ]
    },
    {
     "name": "stdout",
     "output_type": "stream",
     "text": [
      "[211, 270, 436, 450] EXPOSED_BELLY\n",
      "<class 'numpy.ndarray'>\n",
      "(751, 1333, 3)\n",
      "[312, 468, 400, 536] EXPOSED_GENITALIA_F\n",
      "<class 'numpy.ndarray'>\n",
      "(751, 1333, 3)\n",
      "[216, 274, 435, 456] EXPOSED_BELLY\n",
      "<class 'numpy.ndarray'>\n",
      "(751, 1333, 3)\n",
      "[309, 471, 401, 538] EXPOSED_GENITALIA_F\n",
      "<class 'numpy.ndarray'>\n",
      "(751, 1333, 3)\n",
      "[219, 279, 433, 459] EXPOSED_BELLY\n",
      "<class 'numpy.ndarray'>\n",
      "(751, 1333, 3)\n",
      "[308, 473, 402, 543] EXPOSED_GENITALIA_F\n",
      "<class 'numpy.ndarray'>\n",
      "(751, 1333, 3)\n",
      "[222, 271, 434, 461] EXPOSED_BELLY\n",
      "<class 'numpy.ndarray'>\n",
      "(751, 1333, 3)\n",
      "[310, 475, 402, 548] EXPOSED_GENITALIA_F\n",
      "<class 'numpy.ndarray'>\n",
      "(751, 1333, 3)\n",
      "[220, 265, 437, 469] EXPOSED_BELLY\n",
      "<class 'numpy.ndarray'>\n",
      "(751, 1333, 3)\n",
      "[312, 478, 405, 549] EXPOSED_GENITALIA_F\n",
      "<class 'numpy.ndarray'>\n",
      "(751, 1333, 3)\n",
      "[220, 273, 436, 473] EXPOSED_BELLY\n",
      "<class 'numpy.ndarray'>\n",
      "(751, 1333, 3)\n",
      "[315, 478, 408, 551] EXPOSED_GENITALIA_F\n",
      "<class 'numpy.ndarray'>\n",
      "(751, 1333, 3)\n"
     ]
    },
    {
     "name": "stderr",
     "output_type": "stream",
     "text": [
      "\r",
      "  0% (1 of 103) |                        | Elapsed Time: 0:00:16 ETA:   0:28:07"
     ]
    },
    {
     "name": "stdout",
     "output_type": "stream",
     "text": [
      "[217, 266, 434, 473] EXPOSED_BELLY\n",
      "<class 'numpy.ndarray'>\n",
      "(751, 1333, 3)\n",
      "[321, 480, 408, 550] EXPOSED_GENITALIA_F\n",
      "<class 'numpy.ndarray'>\n",
      "(751, 1333, 3)\n",
      "[214, 253, 432, 480] EXPOSED_BELLY\n",
      "<class 'numpy.ndarray'>\n",
      "(751, 1333, 3)\n",
      "[215, 256, 433, 482] EXPOSED_BELLY\n",
      "<class 'numpy.ndarray'>\n",
      "(751, 1333, 3)\n",
      "[211, 251, 432, 479] EXPOSED_BELLY\n",
      "<class 'numpy.ndarray'>\n",
      "(751, 1333, 3)\n",
      "[213, 257, 420, 476] EXPOSED_BELLY\n",
      "<class 'numpy.ndarray'>\n",
      "(751, 1333, 3)\n",
      "[213, 246, 420, 470] EXPOSED_BELLY\n",
      "<class 'numpy.ndarray'>\n",
      "(751, 1333, 3)\n",
      "[211, 242, 408, 476] EXPOSED_BELLY\n",
      "<class 'numpy.ndarray'>\n",
      "(751, 1333, 3)\n",
      "[210, 245, 417, 477] EXPOSED_BELLY\n",
      "<class 'numpy.ndarray'>\n",
      "(751, 1333, 3)\n",
      "[211, 249, 418, 481] EXPOSED_BELLY\n",
      "<class 'numpy.ndarray'>\n",
      "(751, 1333, 3)\n",
      "[212, 250, 413, 477] EXPOSED_BELLY\n",
      "<class 'numpy.ndarray'>\n",
      "(751, 1333, 3)\n",
      "[210, 255, 413, 471] EXPOSED_BELLY\n",
      "<class 'numpy.ndarray'>\n",
      "(751, 1333, 3)\n",
      "[210, 243, 411, 475] EXPOSED_BELLY\n",
      "<class 'numpy.ndarray'>\n",
      "(751, 1333, 3)\n"
     ]
    },
    {
     "name": "stderr",
     "output_type": "stream",
     "text": [
      "\r",
      "  1% (2 of 103) |                        | Elapsed Time: 0:00:38 ETA:   0:37:00"
     ]
    },
    {
     "name": "stdout",
     "output_type": "stream",
     "text": [
      "[207, 242, 411, 478] EXPOSED_BELLY\n",
      "<class 'numpy.ndarray'>\n",
      "(751, 1333, 3)\n",
      "[204, 251, 414, 481] EXPOSED_BELLY\n",
      "<class 'numpy.ndarray'>\n",
      "(751, 1333, 3)\n"
     ]
    },
    {
     "ename": "KeyboardInterrupt",
     "evalue": "",
     "output_type": "error",
     "traceback": [
      "\u001b[0;31m---------------------------------------------------------------------------\u001b[0m",
      "\u001b[0;31mKeyboardInterrupt\u001b[0m                         Traceback (most recent call last)",
      "\u001b[0;32m<ipython-input-3-3a94ba3f4beb>\u001b[0m in \u001b[0;36m<module>\u001b[0;34m\u001b[0m\n\u001b[1;32m      3\u001b[0m \u001b[0mdetector\u001b[0m \u001b[0;34m=\u001b[0m \u001b[0mNudeDetector\u001b[0m\u001b[0;34m(\u001b[0m\u001b[0;34m)\u001b[0m\u001b[0;34m\u001b[0m\u001b[0;34m\u001b[0m\u001b[0m\n\u001b[1;32m      4\u001b[0m detector.detect_video(tested_video_path, batch_size=10, show_progress=True, filter_similar=False, \n\u001b[0;32m----> 5\u001b[0;31m                       output_path=\"/Users/evv/PycharmProjects/NudeNet/output_video.avi\")\n\u001b[0m",
      "\u001b[0;32m~/PycharmProjects/NudeNet/nudenet/detector.py\u001b[0m in \u001b[0;36mdetect_video\u001b[0;34m(self, video_path, mode, min_prob, batch_size, show_progress, filter_similar, output_path)\u001b[0m\n\u001b[1;32m    115\u001b[0m                 outputs = self.detection_model.run(\n\u001b[1;32m    116\u001b[0m                     \u001b[0;34m[\u001b[0m\u001b[0ms_i\u001b[0m\u001b[0;34m.\u001b[0m\u001b[0mname\u001b[0m \u001b[0;32mfor\u001b[0m \u001b[0ms_i\u001b[0m \u001b[0;32min\u001b[0m \u001b[0mself\u001b[0m\u001b[0;34m.\u001b[0m\u001b[0mdetection_model\u001b[0m\u001b[0;34m.\u001b[0m\u001b[0mget_outputs\u001b[0m\u001b[0;34m(\u001b[0m\u001b[0;34m)\u001b[0m\u001b[0;34m]\u001b[0m\u001b[0;34m,\u001b[0m\u001b[0;34m\u001b[0m\u001b[0;34m\u001b[0m\u001b[0m\n\u001b[0;32m--> 117\u001b[0;31m                     \u001b[0;34m{\u001b[0m\u001b[0mself\u001b[0m\u001b[0;34m.\u001b[0m\u001b[0mdetection_model\u001b[0m\u001b[0;34m.\u001b[0m\u001b[0mget_inputs\u001b[0m\u001b[0;34m(\u001b[0m\u001b[0;34m)\u001b[0m\u001b[0;34m[\u001b[0m\u001b[0;36m0\u001b[0m\u001b[0;34m]\u001b[0m\u001b[0;34m.\u001b[0m\u001b[0mname\u001b[0m\u001b[0;34m:\u001b[0m \u001b[0mnp\u001b[0m\u001b[0;34m.\u001b[0m\u001b[0masarray\u001b[0m\u001b[0;34m(\u001b[0m\u001b[0mbatch\u001b[0m\u001b[0;34m)\u001b[0m\u001b[0;34m}\u001b[0m\u001b[0;34m,\u001b[0m\u001b[0;34m\u001b[0m\u001b[0;34m\u001b[0m\u001b[0m\n\u001b[0m\u001b[1;32m    118\u001b[0m                 )\n\u001b[1;32m    119\u001b[0m \u001b[0;34m\u001b[0m\u001b[0m\n",
      "\u001b[0;32m~/PycharmProjects/NudeNet/venv/lib/python3.7/site-packages/onnxruntime/capi/onnxruntime_inference_collection.py\u001b[0m in \u001b[0;36mrun\u001b[0;34m(self, output_names, input_feed, run_options)\u001b[0m\n\u001b[1;32m    186\u001b[0m             \u001b[0moutput_names\u001b[0m \u001b[0;34m=\u001b[0m \u001b[0;34m[\u001b[0m\u001b[0moutput\u001b[0m\u001b[0;34m.\u001b[0m\u001b[0mname\u001b[0m \u001b[0;32mfor\u001b[0m \u001b[0moutput\u001b[0m \u001b[0;32min\u001b[0m \u001b[0mself\u001b[0m\u001b[0;34m.\u001b[0m\u001b[0m_outputs_meta\u001b[0m\u001b[0;34m]\u001b[0m\u001b[0;34m\u001b[0m\u001b[0;34m\u001b[0m\u001b[0m\n\u001b[1;32m    187\u001b[0m         \u001b[0;32mtry\u001b[0m\u001b[0;34m:\u001b[0m\u001b[0;34m\u001b[0m\u001b[0;34m\u001b[0m\u001b[0m\n\u001b[0;32m--> 188\u001b[0;31m             \u001b[0;32mreturn\u001b[0m \u001b[0mself\u001b[0m\u001b[0;34m.\u001b[0m\u001b[0m_sess\u001b[0m\u001b[0;34m.\u001b[0m\u001b[0mrun\u001b[0m\u001b[0;34m(\u001b[0m\u001b[0moutput_names\u001b[0m\u001b[0;34m,\u001b[0m \u001b[0minput_feed\u001b[0m\u001b[0;34m,\u001b[0m \u001b[0mrun_options\u001b[0m\u001b[0;34m)\u001b[0m\u001b[0;34m\u001b[0m\u001b[0;34m\u001b[0m\u001b[0m\n\u001b[0m\u001b[1;32m    189\u001b[0m         \u001b[0;32mexcept\u001b[0m \u001b[0mC\u001b[0m\u001b[0;34m.\u001b[0m\u001b[0mEPFail\u001b[0m \u001b[0;32mas\u001b[0m \u001b[0merr\u001b[0m\u001b[0;34m:\u001b[0m\u001b[0;34m\u001b[0m\u001b[0;34m\u001b[0m\u001b[0m\n\u001b[1;32m    190\u001b[0m             \u001b[0;32mif\u001b[0m \u001b[0mself\u001b[0m\u001b[0;34m.\u001b[0m\u001b[0m_enable_fallback\u001b[0m\u001b[0;34m:\u001b[0m\u001b[0;34m\u001b[0m\u001b[0;34m\u001b[0m\u001b[0m\n",
      "\u001b[0;31mKeyboardInterrupt\u001b[0m: "
     ]
    }
   ],
   "source": [
    "from nudenet import NudeDetector\n",
    "\n",
    "detector = NudeDetector() \n",
    "detector.detect_video(tested_video_path, batch_size=10, show_progress=True, filter_similar=False, \n",
    "                      output_path=\"/Users/evv/PycharmProjects/NudeNet/output_video.avi\")"
   ]
  },
  {
   "cell_type": "code",
   "execution_count": null,
   "metadata": {},
   "outputs": [],
   "source": []
  },
  {
   "cell_type": "code",
   "execution_count": null,
   "metadata": {
    "pycharm": {
     "is_executing": false
    }
   },
   "outputs": [],
   "source": [
    "!ls | grep output"
   ]
  },
  {
   "cell_type": "code",
   "execution_count": 4,
   "metadata": {
    "pycharm": {
     "is_executing": false
    }
   },
   "outputs": [],
   "source": [
    "import cv2\n",
    "video = cv2.VideoCapture('/Users/evv/PycharmProjects/NudeNet/short_test_video.ts')\n",
    "fourcc_code = int(video.get(cv2.CAP_PROP_FOURCC))\n",
    "width = int(video.get(cv2.CAP_PROP_FRAME_WIDTH))\n",
    "height = int(video.get(cv2.CAP_PROP_FRAME_HEIGHT))\n",
    "fps = video.get(cv2.CAP_PROP_FPS)\n",
    "video.release()"
   ]
  },
  {
   "cell_type": "code",
   "execution_count": 5,
   "metadata": {
    "pycharm": {
     "is_executing": false
    }
   },
   "outputs": [
    {
     "name": "stdout",
     "output_type": "stream",
     "text": [
      "426 240\n"
     ]
    }
   ],
   "source": [
    "print(width, height)"
   ]
  },
  {
   "cell_type": "code",
   "execution_count": 6,
   "metadata": {
    "pycharm": {
     "is_executing": false
    }
   },
   "outputs": [],
   "source": [
    "video = cv2.VideoCapture('/Users/evv/PycharmProjects/NudeNet/short_test_video.ts')"
   ]
  },
  {
   "cell_type": "code",
   "execution_count": 7,
   "metadata": {
    "pycharm": {
     "is_executing": false
    }
   },
   "outputs": [
    {
     "data": {
      "text/plain": [
       "27.0"
      ]
     },
     "execution_count": 7,
     "metadata": {},
     "output_type": "execute_result"
    }
   ],
   "source": [
    "video.get(cv2.CAP_PROP_FOURCC)"
   ]
  },
  {
   "cell_type": "code",
   "execution_count": 8,
   "metadata": {
    "pycharm": {
     "is_executing": false
    }
   },
   "outputs": [],
   "source": [
    "import os \n",
    "import cv2"
   ]
  },
  {
   "cell_type": "code",
   "execution_count": 9,
   "metadata": {
    "pycharm": {
     "is_executing": false
    }
   },
   "outputs": [],
   "source": [
    "fourcc_code = cv2.VideoWriter_fourcc('H', '2', '6', '4')"
   ]
  },
  {
   "cell_type": "code",
   "execution_count": 64,
   "metadata": {
    "pycharm": {
     "is_executing": false
    }
   },
   "outputs": [],
   "source": [
    "fourcc_code = cv2.VideoWriter_fourcc('M','J','P','G')\n",
    "# fourcc_code = cv2.VideoWriter_fourcc('H','2','6','4')\n",
    "fourcc_code = cv2.VideoWriter_fourcc(*'DIVX')\n",
    "fourcc_code = cv2.VideoWriter_fourcc(*'mp4v') "
   ]
  },
  {
   "cell_type": "code",
   "execution_count": 65,
   "metadata": {
    "pycharm": {
     "is_executing": false
    }
   },
   "outputs": [
    {
     "data": {
      "text/plain": [
       "1983148141"
      ]
     },
     "execution_count": 65,
     "metadata": {},
     "output_type": "execute_result"
    }
   ],
   "source": [
    "fourcc_code"
   ]
  },
  {
   "cell_type": "code",
   "execution_count": 101,
   "metadata": {
    "pycharm": {
     "is_executing": false
    }
   },
   "outputs": [
    {
     "data": {
      "text/plain": [
       "1196444237"
      ]
     },
     "execution_count": 101,
     "metadata": {},
     "output_type": "execute_result"
    }
   ],
   "source": [
    "cv2.VideoWriter_fourcc('M','J','P','G')"
   ]
  },
  {
   "cell_type": "code",
   "execution_count": 100,
   "metadata": {
    "pycharm": {
     "is_executing": false
    }
   },
   "outputs": [
    {
     "name": "stdout",
     "output_type": "stream",
     "text": [
      "1983148141 30.0 (426, 240)\n"
     ]
    }
   ],
   "source": [
    "print(fourcc_code, fps, (width, height))"
   ]
  },
  {
   "cell_type": "code",
   "execution_count": 108,
   "metadata": {},
   "outputs": [
    {
     "data": {
      "text/plain": [
       "'./frames/frame_616.jpg'"
      ]
     },
     "execution_count": 108,
     "metadata": {},
     "output_type": "execute_result"
    }
   ],
   "source": [
    "f\"./frames/{os.listdir('./frames')[1]}\""
   ]
  },
  {
   "cell_type": "code",
   "execution_count": 116,
   "metadata": {},
   "outputs": [],
   "source": [
    "size = cv2.imread(f\"./frames/{os.listdir('./frames')[1]}\").shape[:-1]"
   ]
  },
  {
   "cell_type": "code",
   "execution_count": 117,
   "metadata": {},
   "outputs": [
    {
     "data": {
      "text/plain": [
       "(751, 1333)"
      ]
     },
     "execution_count": 117,
     "metadata": {},
     "output_type": "execute_result"
    }
   ],
   "source": [
    "size"
   ]
  },
  {
   "cell_type": "code",
   "execution_count": 118,
   "metadata": {
    "pycharm": {
     "is_executing": false
    }
   },
   "outputs": [],
   "source": [
    "video_writer = cv2.VideoWriter(\"./video_out_jupyter.avi\", fourcc_code, fps, size)"
   ]
  },
  {
   "cell_type": "code",
   "execution_count": 119,
   "metadata": {
    "pycharm": {
     "is_executing": false
    }
   },
   "outputs": [],
   "source": [
    "for each in os.listdir(\"./frames\")[1:]:\n",
    "    frame = cv2.imread(f\"./frames/{each}\")\n",
    "#     print(frame.shape)\n",
    "    video_writer.write(frame)"
   ]
  },
  {
   "cell_type": "code",
   "execution_count": 120,
   "metadata": {
    "pycharm": {
     "is_executing": false
    }
   },
   "outputs": [],
   "source": [
    "video_writer.release()"
   ]
  },
  {
   "cell_type": "code",
   "execution_count": null,
   "metadata": {
    "pycharm": {
     "is_executing": false
    }
   },
   "outputs": [],
   "source": [
    "!ls | grep jupyter"
   ]
  },
  {
   "cell_type": "code",
   "execution_count": null,
   "metadata": {
    "pycharm": {
     "is_executing": false
    }
   },
   "outputs": [],
   "source": []
  }
 ],
 "metadata": {
  "kernelspec": {
   "display_name": "Python 3",
   "language": "python",
   "name": "python3"
  },
  "language_info": {
   "codemirror_mode": {
    "name": "ipython",
    "version": 3
   },
   "file_extension": ".py",
   "mimetype": "text/x-python",
   "name": "python",
   "nbconvert_exporter": "python",
   "pygments_lexer": "ipython3",
   "version": "3.7.4"
  }
 },
 "nbformat": 4,
 "nbformat_minor": 1
}
